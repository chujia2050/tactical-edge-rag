{
 "cells": [
  {
   "cell_type": "markdown",
   "id": "53dce32e-b8e0-4809-a0eb-44b4e78f7aab",
   "metadata": {},
   "source": [
    "<h2>Setup</h2>"
   ]
  },
  {
   "cell_type": "code",
   "execution_count": 1,
   "id": "d2d928ce-56d5-4988-aa12-bcf4b74382be",
   "metadata": {},
   "outputs": [
    {
     "data": {
      "text/plain": [
       "True"
      ]
     },
     "execution_count": 1,
     "metadata": {},
     "output_type": "execute_result"
    }
   ],
   "source": [
    "from dotenv import load_dotenv\n",
    "\n",
    "load_dotenv()"
   ]
  },
  {
   "cell_type": "code",
   "execution_count": 2,
   "id": "409abe64-08ba-40f5-b2da-07d1a9f9870f",
   "metadata": {},
   "outputs": [],
   "source": [
    "from langchain_openai import ChatOpenAI, OpenAIEmbeddings\n",
    "from langchain_core.messages import AIMessage, HumanMessage, ToolMessage\n",
    "\n",
    "llm = ChatOpenAI(model=\"gpt-4o\", temperature=0)\n",
    "embeddings = OpenAIEmbeddings(model=\"text-embedding-3-small\")"
   ]
  },
  {
   "cell_type": "code",
   "execution_count": 3,
   "id": "fc2a9bb5-85f7-4ae5-af07-fbe0c4226a61",
   "metadata": {},
   "outputs": [
    {
     "data": {
      "text/plain": [
       "AIMessage(content='Hello! How can I assist you today?', additional_kwargs={'refusal': None}, response_metadata={'token_usage': {'completion_tokens': 10, 'prompt_tokens': 8, 'total_tokens': 18, 'completion_tokens_details': {'accepted_prediction_tokens': 0, 'audio_tokens': 0, 'reasoning_tokens': 0, 'rejected_prediction_tokens': 0}, 'prompt_tokens_details': {'audio_tokens': 0, 'cached_tokens': 0}}, 'model_name': 'gpt-4o-2024-08-06', 'system_fingerprint': 'fp_eb9dce56a8', 'finish_reason': 'stop', 'logprobs': None}, id='run-abc7d6d2-faa3-473c-85b0-50cf2dcfa351-0', usage_metadata={'input_tokens': 8, 'output_tokens': 10, 'total_tokens': 18, 'input_token_details': {'audio': 0, 'cache_read': 0}, 'output_token_details': {'audio': 0, 'reasoning': 0}})"
      ]
     },
     "execution_count": 3,
     "metadata": {},
     "output_type": "execute_result"
    }
   ],
   "source": [
    "# Test\n",
    "response = llm.invoke(\"Hi\")\n",
    "response"
   ]
  },
  {
   "cell_type": "markdown",
   "id": "8e9ccbe8-ca58-420a-a00b-5e17494d790b",
   "metadata": {},
   "source": [
    "<h2>Retriever</h2>"
   ]
  },
  {
   "cell_type": "code",
   "execution_count": 4,
   "id": "a84ad608-eb76-41a6-bdab-a595e255a0a8",
   "metadata": {},
   "outputs": [
    {
     "name": "stderr",
     "output_type": "stream",
     "text": [
      "C:\\Users\\chenc\\PycharmProjects\\tactical-edge-rag\\tactical-edge-rag-env\\Lib\\site-packages\\pinecone\\data\\index.py:1: TqdmWarning: IProgress not found. Please update jupyter and ipywidgets. See https://ipywidgets.readthedocs.io/en/stable/user_install.html\n",
      "  from tqdm.autonotebook import tqdm\n"
     ]
    }
   ],
   "source": [
    "### Retriever\n",
    "from langchain_pinecone import PineconeVectorStore\n",
    "from langchain_openai import OpenAIEmbeddings\n",
    "\n",
    "index_name= \"tactical-edge-rag-index\"\n",
    "embeddings = OpenAIEmbeddings(model=\"text-embedding-3-small\")\n",
    "vectorstore = PineconeVectorStore(index_name=index_name, embedding=embeddings)\n",
    "retriever = vectorstore.as_retriever(search_kwargs={\"k\": 3})"
   ]
  },
  {
   "cell_type": "code",
   "execution_count": 5,
   "id": "555e2eef-4005-41ff-87a3-ffe9250f32d4",
   "metadata": {},
   "outputs": [
    {
     "name": "stdout",
     "output_type": "stream",
     "text": [
      "Etihad Etisalat (Mobily) was established in 2004 through Saudi \n",
      "Arabia’s second Global System for Mobile Communications (GSM) \n",
      "license, ending the monopoly in the Saudi wireless industry and \n",
      "providing choice in national mobile telecommunications services \n",
      "to the Saudi population for the first time.\n",
      "About Mobily\n",
      "The Company has rapidly grown and diversified both \n",
      "organically and through strategic acquisitions over the \n",
      "years, driven by investment in cutting-edge infrastructure –\n"
     ]
    }
   ],
   "source": [
    "# Test\n",
    "question = \"What is Mobily?\"\n",
    "documents = retriever.invoke(question)\n",
    "print(documents[0].page_content)"
   ]
  },
  {
   "cell_type": "markdown",
   "id": "dc17ac21-9510-4867-a09e-bb6d11302e60",
   "metadata": {},
   "source": [
    "<h2>Router</h2>"
   ]
  },
  {
   "cell_type": "code",
   "execution_count": 6,
   "id": "d60a2ee5-c11f-4b8f-bf67-650074c07e83",
   "metadata": {},
   "outputs": [],
   "source": [
    "from typing import Literal\n",
    "from langchain_core.prompts import ChatPromptTemplate\n",
    "from pydantic import BaseModel, Field\n",
    "\n",
    "# Data model\n",
    "class RouteQuery(BaseModel):\n",
    "    \"\"\"Route a user query to the most relevant datasource.\"\"\"\n",
    "\n",
    "    datasource: Literal[\"vectorstore\", \"web_search\"] = Field(\n",
    "        description=\"Given a user question choose to route it to web search or a vectorstore.\",\n",
    "    )\n",
    "\n",
    "# LLM with function call\n",
    "structured_llm_router = llm.with_structured_output(RouteQuery)\n",
    "\n",
    "# Prompt\n",
    "system = \"\"\"\n",
    "You are an expert at routing a user question to a vectorstore or web search.\n",
    "The vectorstore contains documents related to Mobily and OCaterpillar.\n",
    "Use the vectorstore for questions on these topics. Otherwise, use web-search. please show me your thinking process.\"\"\"\n",
    "\n",
    "human_msg = \"\"\"\n",
    "    User question: \n",
    "    {question}\"\"\" \n",
    "\n",
    "route_prompt = ChatPromptTemplate.from_messages(\n",
    "    [\n",
    "        (\"system\", system),\n",
    "        (\"human\", human_msg),\n",
    "    ]\n",
    ")\n",
    "\n",
    "question_router = route_prompt | structured_llm_router"
   ]
  },
  {
   "cell_type": "code",
   "execution_count": 7,
   "id": "b05fb7a1-87a7-4933-b034-c28ca1794099",
   "metadata": {},
   "outputs": [
    {
     "name": "stdout",
     "output_type": "stream",
     "text": [
      "================================\u001b[1m System Message \u001b[0m================================\n",
      "\n",
      "\n",
      "You are an expert at routing a user question to a vectorstore or web search.\n",
      "The vectorstore contains documents related to Mobily and OCaterpillar.\n",
      "Use the vectorstore for questions on these topics. Otherwise, use web-search. please show me your thinking process.\n",
      "\n",
      "================================\u001b[1m Human Message \u001b[0m=================================\n",
      "\n",
      "\n",
      "    User question: \n",
      "    \u001b[33;1m\u001b[1;3m{question}\u001b[0m\n"
     ]
    }
   ],
   "source": [
    "route_prompt.pretty_print()"
   ]
  },
  {
   "cell_type": "code",
   "execution_count": 8,
   "id": "a5bb853b-3bfa-4044-af66-7d5b4aa26cef",
   "metadata": {},
   "outputs": [],
   "source": [
    "source = question_router.invoke({\"question\": \"When did Mobily established?\"})"
   ]
  },
  {
   "cell_type": "code",
   "execution_count": 9,
   "id": "009e8d07-5389-4163-beff-749270efbcb1",
   "metadata": {},
   "outputs": [
    {
     "data": {
      "text/plain": [
       "RouteQuery(datasource='vectorstore')"
      ]
     },
     "execution_count": 9,
     "metadata": {},
     "output_type": "execute_result"
    }
   ],
   "source": [
    "source"
   ]
  },
  {
   "cell_type": "markdown",
   "id": "b4e80691-4eb6-4f68-8135-65705e51101b",
   "metadata": {},
   "source": [
    "<h2>Documents Grader</h2>"
   ]
  },
  {
   "cell_type": "code",
   "execution_count": 10,
   "id": "88a0c61a-991a-4190-a380-258b221ad093",
   "metadata": {},
   "outputs": [],
   "source": [
    "\n",
    "# Data model\n",
    "class GradeDocuments(BaseModel):\n",
    "    \"\"\"Binary score for relevance check on retrieved documents.\"\"\"\n",
    "\n",
    "    binary_score: int = Field(\n",
    "        description=\"Documents are relevant to the question, 0 or 1\"\n",
    "    )\n",
    "\n",
    "# LLM with function call\n",
    "structured_llm_grader = llm.with_structured_output(GradeDocuments)\n",
    "\n",
    "# Prompt\n",
    "system = \"\"\"\n",
    "You are a grader assessing relevance of a retrieved document to a user question. \n",
    "If the document contains keyword(s) or semantic meaning related to the question, grade it as relevant.\n",
    "It does not need to be a stringent test. The goal is to filter out erroneous retrievals.\n",
    "Give a binary score 0 or 1 score to indicate whether the document is relevant to the question.\"\"\"\n",
    "\n",
    "human_msg = \"\"\"\n",
    "    Retrieved documents: \n",
    "    {documents} \n",
    "    \n",
    "    User question: \n",
    "    {question}\"\"\" \n",
    "\n",
    "grade_prompt = ChatPromptTemplate.from_messages(\n",
    "    [\n",
    "        (\"system\", system),\n",
    "        (\"human\", human_msg),\n",
    "    ]\n",
    ")\n",
    "\n",
    "retrieval_grader = grade_prompt | structured_llm_grader"
   ]
  },
  {
   "cell_type": "code",
   "execution_count": 11,
   "id": "c0298bbd-5e5b-4ccd-a253-b7e429bbd720",
   "metadata": {},
   "outputs": [
    {
     "name": "stdout",
     "output_type": "stream",
     "text": [
      "================================\u001b[1m System Message \u001b[0m================================\n",
      "\n",
      "\n",
      "You are a grader assessing relevance of a retrieved document to a user question. \n",
      "If the document contains keyword(s) or semantic meaning related to the question, grade it as relevant.\n",
      "It does not need to be a stringent test. The goal is to filter out erroneous retrievals.\n",
      "Give a binary score 0 or 1 score to indicate whether the document is relevant to the question.\n",
      "\n",
      "================================\u001b[1m Human Message \u001b[0m=================================\n",
      "\n",
      "\n",
      "    Retrieved documents: \n",
      "    \u001b[33;1m\u001b[1;3m{documents}\u001b[0m \n",
      "    \n",
      "    User question: \n",
      "    \u001b[33;1m\u001b[1;3m{question}\u001b[0m\n"
     ]
    }
   ],
   "source": [
    "grade_prompt.pretty_print() "
   ]
  },
  {
   "cell_type": "code",
   "execution_count": 12,
   "id": "1947153d-7c65-48ff-8510-12e807b02760",
   "metadata": {},
   "outputs": [
    {
     "data": {
      "text/plain": [
       "__main__.GradeDocuments"
      ]
     },
     "execution_count": 12,
     "metadata": {},
     "output_type": "execute_result"
    }
   ],
   "source": [
    "# Test\n",
    "score = retrieval_grader.invoke({\"question\": question, \"documents\": documents}) #We can pass a list of documents, a single document or a string\n",
    "type(score)"
   ]
  },
  {
   "cell_type": "code",
   "execution_count": 13,
   "id": "652c6cf0-3b77-4105-9abb-4d84441c6e12",
   "metadata": {},
   "outputs": [
    {
     "data": {
      "text/plain": [
       "1"
      ]
     },
     "execution_count": 13,
     "metadata": {},
     "output_type": "execute_result"
    }
   ],
   "source": [
    "score.binary_score"
   ]
  },
  {
   "cell_type": "markdown",
   "id": "49c19604-c2ed-419e-b3e9-8d15f83b7162",
   "metadata": {},
   "source": [
    "<h2>Generate Answer</h2>"
   ]
  },
  {
   "cell_type": "code",
   "execution_count": 14,
   "id": "bf9128ce-b6a1-4be4-b39d-27e5fc769569",
   "metadata": {},
   "outputs": [],
   "source": [
    "from langchain import hub\n",
    "from langchain_core.output_parsers import StrOutputParser\n",
    "\n",
    "# Prompt\n",
    "prompt = hub.pull(\"rlm/rag-prompt\") #prompt has context and question parameter\n",
    "\n",
    "# Chain\n",
    "rag_chain = prompt | llm | StrOutputParser()"
   ]
  },
  {
   "cell_type": "code",
   "execution_count": 15,
   "id": "ef2893b2-c24a-4904-b212-7df9811497a5",
   "metadata": {},
   "outputs": [
    {
     "name": "stdout",
     "output_type": "stream",
     "text": [
      "================================\u001b[1m Human Message \u001b[0m=================================\n",
      "\n",
      "You are an assistant for question-answering tasks. Use the following pieces of retrieved context to answer the question. If you don't know the answer, just say that you don't know. Use three sentences maximum and keep the answer concise.\n",
      "Question: \u001b[33;1m\u001b[1;3m{question}\u001b[0m \n",
      "Context: \u001b[33;1m\u001b[1;3m{context}\u001b[0m \n",
      "Answer:\n"
     ]
    }
   ],
   "source": [
    "prompt.pretty_print() "
   ]
  },
  {
   "cell_type": "code",
   "execution_count": 16,
   "id": "c1334225-ae9c-4a1a-a72d-5a2255820f8e",
   "metadata": {},
   "outputs": [
    {
     "name": "stdout",
     "output_type": "stream",
     "text": [
      "Mobily, officially known as Etihad Etisalat, is a telecommunications company established in 2004 in Saudi Arabia. It was created through the country's second GSM license, breaking the monopoly in the Saudi wireless industry. Mobily is listed on the Saudi Exchange and is partially owned by the Etisalat Emirates Group.\n"
     ]
    }
   ],
   "source": [
    "# Test\n",
    "generation = rag_chain.invoke({\"context\": documents, \"question\": question})\n",
    "print(generation)"
   ]
  },
  {
   "cell_type": "markdown",
   "id": "8eac090b-d626-44c8-8cd2-76b39c2525b6",
   "metadata": {},
   "source": [
    "<h2>Hallucination Grader</h2>"
   ]
  },
  {
   "cell_type": "code",
   "execution_count": 17,
   "id": "2aa51b3a-5c36-4c3f-bd97-20632cd2cd25",
   "metadata": {},
   "outputs": [],
   "source": [
    "# Data model\n",
    "class GradeHallucinations(BaseModel):\n",
    "    \"\"\"Binary score for hallucination present in generation answer.\"\"\"\n",
    "\n",
    "    binary_score: int = Field(\n",
    "        description=\"Answer is grounded in the facts, 0 or 1\"\n",
    "    )\n",
    "\n",
    "\n",
    "# LLM with function call\n",
    "structured_llm_grader = llm.with_structured_output(GradeHallucinations)\n",
    "\n",
    "# Prompt\n",
    "system = \"\"\"\n",
    "You are a grader assessing whether an LLM generation is grounded in / supported by a set of retrieved facts.\n",
    "Give a binary score 1 or 0. 1 means that the answer is grounded in / supported by the set of facts.\"\"\"\n",
    "\n",
    "human_msg = \"\"\"\n",
    "    Set of facts: \n",
    "    {documents} \n",
    "    \n",
    "    LLM generation: \n",
    "    {generation}\"\"\"\n",
    "    \n",
    "hallucination_prompt = ChatPromptTemplate.from_messages(\n",
    "    [\n",
    "        (\"system\", system),\n",
    "        (\"human\", human_msg),\n",
    "    ]\n",
    ")\n",
    "\n",
    "hallucination_grader = hallucination_prompt | structured_llm_grader"
   ]
  },
  {
   "cell_type": "code",
   "execution_count": 18,
   "id": "35a18385-07b2-48d4-9610-3ff9c56304d4",
   "metadata": {},
   "outputs": [
    {
     "name": "stdout",
     "output_type": "stream",
     "text": [
      "================================\u001b[1m System Message \u001b[0m================================\n",
      "\n",
      "\n",
      "You are a grader assessing whether an LLM generation is grounded in / supported by a set of retrieved facts.\n",
      "Give a binary score 1 or 0. 1 means that the answer is grounded in / supported by the set of facts.\n",
      "\n",
      "================================\u001b[1m Human Message \u001b[0m=================================\n",
      "\n",
      "\n",
      "    Set of facts: \n",
      "    \u001b[33;1m\u001b[1;3m{documents}\u001b[0m \n",
      "    \n",
      "    LLM generation: \n",
      "    \u001b[33;1m\u001b[1;3m{generation}\u001b[0m\n"
     ]
    }
   ],
   "source": [
    "hallucination_prompt.pretty_print() "
   ]
  },
  {
   "cell_type": "code",
   "execution_count": 19,
   "id": "e3db07d0-77f5-4413-9e57-a94b1e16a8a7",
   "metadata": {},
   "outputs": [
    {
     "data": {
      "text/plain": [
       "__main__.GradeHallucinations"
      ]
     },
     "execution_count": 19,
     "metadata": {},
     "output_type": "execute_result"
    }
   ],
   "source": [
    "# Test\n",
    "score = hallucination_grader.invoke({\"documents\": documents, \"generation\": generation})\n",
    "type(score)"
   ]
  },
  {
   "cell_type": "code",
   "execution_count": 20,
   "id": "ff21cca7-f174-4090-b99a-bc9e6503e8d7",
   "metadata": {},
   "outputs": [
    {
     "data": {
      "text/plain": [
       "1"
      ]
     },
     "execution_count": 20,
     "metadata": {},
     "output_type": "execute_result"
    }
   ],
   "source": [
    "score.binary_score"
   ]
  },
  {
   "cell_type": "markdown",
   "id": "3a050462-d952-4b97-85c6-427173ca989b",
   "metadata": {},
   "source": [
    "<h2>Answer Grader</h2>"
   ]
  },
  {
   "cell_type": "code",
   "execution_count": 21,
   "id": "6a17958a-31e6-445b-ba5c-9d86164e50ca",
   "metadata": {},
   "outputs": [],
   "source": [
    "# Data model\n",
    "class GradeAnswer(BaseModel):\n",
    "    \"\"\"Binary score to assess answer addresses question.\"\"\"\n",
    "\n",
    "    binary_score: int = Field(\n",
    "        description=\"Answer addresses the question, 1 or 0\"\n",
    "    )\n",
    "\n",
    "\n",
    "# LLM with function call\n",
    "structured_llm_grader = llm.with_structured_output(GradeAnswer)\n",
    "\n",
    "# Prompt\n",
    "system = \"\"\"\n",
    "You are a grader assessing whether an answer addresses / resolves a question.\n",
    "Give a binary score 1 or 0. 1 means that the answer resolves the question.\"\"\"\n",
    "\n",
    "human_msg = \"\"\"\n",
    "    User question:\n",
    "    {question} \n",
    "    \n",
    "    LLM generation:\n",
    "    {generation}\"\"\" \n",
    "\n",
    "answer_prompt = ChatPromptTemplate.from_messages(\n",
    "    [\n",
    "        (\"system\", system),\n",
    "        (\"human\", human_msg),\n",
    "    ]\n",
    ")\n",
    "\n",
    "answer_grader = answer_prompt | structured_llm_grader"
   ]
  },
  {
   "cell_type": "code",
   "execution_count": 22,
   "id": "185cb55c-b3fe-4f95-943c-0ea6393d1a48",
   "metadata": {},
   "outputs": [
    {
     "name": "stdout",
     "output_type": "stream",
     "text": [
      "================================\u001b[1m System Message \u001b[0m================================\n",
      "\n",
      "\n",
      "You are a grader assessing whether an answer addresses / resolves a question.\n",
      "Give a binary score 1 or 0. 1 means that the answer resolves the question.\n",
      "\n",
      "================================\u001b[1m Human Message \u001b[0m=================================\n",
      "\n",
      "\n",
      "    User question:\n",
      "    \u001b[33;1m\u001b[1;3m{question}\u001b[0m \n",
      "    \n",
      "    LLM generation:\n",
      "    \u001b[33;1m\u001b[1;3m{generation}\u001b[0m\n"
     ]
    }
   ],
   "source": [
    "answer_prompt.pretty_print() "
   ]
  },
  {
   "cell_type": "code",
   "execution_count": 23,
   "id": "b0b7878f-8c8f-4a2d-9dc2-63b9584f0f60",
   "metadata": {},
   "outputs": [
    {
     "data": {
      "text/plain": [
       "__main__.GradeAnswer"
      ]
     },
     "execution_count": 23,
     "metadata": {},
     "output_type": "execute_result"
    }
   ],
   "source": [
    "# Test \n",
    "score = answer_grader.invoke({\"question\": question, \"generation\": generation})\n",
    "type(score)"
   ]
  },
  {
   "cell_type": "code",
   "execution_count": 24,
   "id": "d3431486-2f5a-4937-b24b-27e3fe0d85cc",
   "metadata": {},
   "outputs": [
    {
     "data": {
      "text/plain": [
       "1"
      ]
     },
     "execution_count": 24,
     "metadata": {},
     "output_type": "execute_result"
    }
   ],
   "source": [
    "score.binary_score"
   ]
  },
  {
   "cell_type": "markdown",
   "id": "4c244358-f058-44ec-b6d3-d283d3b60669",
   "metadata": {},
   "source": [
    "<h2>Question Re-writer</h2>"
   ]
  },
  {
   "cell_type": "code",
   "execution_count": 25,
   "id": "fbd958df-3738-4853-8d3f-d20435d8bba5",
   "metadata": {},
   "outputs": [],
   "source": [
    "# Prompt\n",
    "system = \"\"\"\n",
    "You a question re-writer that converts an input question to a better version that is optimized for vectorstore retrieval. \n",
    "Look at the input and try to reason about the underlying semantic intent / meaning.\"\"\"\n",
    "\n",
    "human_msg = \"\"\"\n",
    "    Here is the initial question: \n",
    "    {question}\n",
    "    \n",
    "    Formulate an improved question.\"\"\" \n",
    "\n",
    "re_write_prompt = ChatPromptTemplate.from_messages(\n",
    "    [\n",
    "        (\"system\", system),\n",
    "        (\"human\", human_msg)\n",
    "    ]\n",
    ")\n",
    "\n",
    "question_rewriter = re_write_prompt | llm | StrOutputParser()"
   ]
  },
  {
   "cell_type": "code",
   "execution_count": 26,
   "id": "44579e53-4961-4944-9246-b0fa85d6deb1",
   "metadata": {},
   "outputs": [
    {
     "name": "stdout",
     "output_type": "stream",
     "text": [
      "================================\u001b[1m System Message \u001b[0m================================\n",
      "\n",
      "\n",
      "You a question re-writer that converts an input question to a better version that is optimized for vectorstore retrieval. \n",
      "Look at the input and try to reason about the underlying semantic intent / meaning.\n",
      "\n",
      "================================\u001b[1m Human Message \u001b[0m=================================\n",
      "\n",
      "\n",
      "    Here is the initial question: \n",
      "    \u001b[33;1m\u001b[1;3m{question}\u001b[0m\n",
      "    \n",
      "    Formulate an improved question.\n"
     ]
    }
   ],
   "source": [
    "re_write_prompt.pretty_print()"
   ]
  },
  {
   "cell_type": "code",
   "execution_count": 27,
   "id": "320772ae-e761-4fe3-bce4-2839f449599e",
   "metadata": {},
   "outputs": [
    {
     "name": "stdout",
     "output_type": "stream",
     "text": [
      "What is Mobily and what services or products does it offer?\n"
     ]
    }
   ],
   "source": [
    "# Test\n",
    "better_question = question_rewriter.invoke({\"question\": question})\n",
    "print(better_question)"
   ]
  },
  {
   "cell_type": "markdown",
   "id": "d7fed4f1-cfed-43dd-98cc-e9a57f1998c2",
   "metadata": {},
   "source": [
    "<h2>Web Search Tool</h2>"
   ]
  },
  {
   "cell_type": "code",
   "execution_count": 28,
   "id": "2c846ae7-e42a-4216-947a-99aa650facd0",
   "metadata": {},
   "outputs": [],
   "source": [
    "from langchain_community.tools.tavily_search import TavilySearchResults\n",
    "\n",
    "web_search_tool = TavilySearchResults(max_results=3)"
   ]
  },
  {
   "cell_type": "code",
   "execution_count": 29,
   "id": "20fa9d91-b0ae-4030-be21-58cd00b2b194",
   "metadata": {},
   "outputs": [
    {
     "data": {
      "text/plain": [
       "list"
      ]
     },
     "execution_count": 29,
     "metadata": {},
     "output_type": "execute_result"
    }
   ],
   "source": [
    "# Test\n",
    "docs = web_search_tool.invoke(better_question) #return a list of dict\n",
    "type(docs)"
   ]
  },
  {
   "cell_type": "code",
   "execution_count": 30,
   "id": "f52d8897-8500-473c-9a7e-e87644da7773",
   "metadata": {},
   "outputs": [
    {
     "name": "stdout",
     "output_type": "stream",
     "text": [
      "Mobily (Arabic: موبايلي) is a Saudi Arabian telecommunications services company that offers fixed line, mobile telephony, and Internet services Mobily launched mobile services in Saudi Arabia on 5 May 2005, breaking Saudi Telecom's monopoly in the wireless business. M/40 dated 18 August 2004.[2] The company won the bid for Saudi Arabia's second GSM licence in the summer of 2004.[3] The licence is valid for 25 years.[4] Etihad Etisalat began its constituent activities on 14 December 2004 upon the publication of its incorporation.[2] Etihad Etisalat launched GSM mobile services under the brand name Mobily on 5 May 2005, breaking the Saudi Telecom Company's monopoly in the wireless business. ^ \"Mobily Announces 4G LTE Service in Saudi Arabia (STC and Zain too) - SaudiMac\".\n"
     ]
    }
   ],
   "source": [
    "print(docs[0]['content'])"
   ]
  },
  {
   "cell_type": "markdown",
   "id": "bbf9d328-244f-4b65-b88d-d05cebbbc238",
   "metadata": {},
   "source": [
    "<h2>Graph State</h2>"
   ]
  },
  {
   "cell_type": "code",
   "execution_count": 31,
   "id": "425e1307-a033-449a-91ca-19e3a3441728",
   "metadata": {},
   "outputs": [],
   "source": [
    "from typing import List\n",
    "from typing_extensions import TypedDict\n",
    "from langchain.schema import Document\n",
    "\n",
    "class State(TypedDict):\n",
    "    \"\"\"\n",
    "    Represents the state of our graph.\n",
    "\n",
    "    Attributes:\n",
    "        question: question\n",
    "        generation: LLM generation\n",
    "        max_retries: Max number of retries for answer generation\n",
    "        loop_step: number of loops for answer generation\n",
    "        documents: list of documents\n",
    "        \n",
    "    \"\"\"\n",
    "    question: str\n",
    "    generation: str\n",
    "    max_retries: int\n",
    "    loop_step: int\n",
    "    documents: List[Document]"
   ]
  },
  {
   "cell_type": "markdown",
   "id": "102919ac-ae56-41a0-8085-372561ac3bb3",
   "metadata": {},
   "source": [
    "<h2>Retriever Node</h2>"
   ]
  },
  {
   "cell_type": "code",
   "execution_count": 32,
   "id": "f30b1ffc-8307-4880-82be-926360bd7053",
   "metadata": {},
   "outputs": [],
   "source": [
    "def retrieve(state):\n",
    "    \"\"\"\n",
    "    Retrieve documents\n",
    "\n",
    "    Args:\n",
    "        state (dict): The current graph state\n",
    "\n",
    "    Returns:\n",
    "        state (dict): New key added to state, documents, that contains retrieved documents\n",
    "    \"\"\"\n",
    "    print(\"---RETRIEVE---\")\n",
    "    question = state[\"question\"]\n",
    "\n",
    "    # Retrieval\n",
    "    documents = retriever.invoke(question)\n",
    "    \n",
    "    return {\"documents\": documents}"
   ]
  },
  {
   "cell_type": "markdown",
   "id": "2ad66817-83a9-42f0-88a5-460373deab5f",
   "metadata": {},
   "source": [
    "<h2>Generate Node</h2>"
   ]
  },
  {
   "cell_type": "code",
   "execution_count": 33,
   "id": "27bf573d-60ea-496b-bf50-448e33f009fa",
   "metadata": {},
   "outputs": [],
   "source": [
    "def generate(state):\n",
    "    \"\"\"\n",
    "    Generate answer\n",
    "\n",
    "    Args:\n",
    "        state (dict): The current graph state\n",
    "\n",
    "    Returns:\n",
    "        state (dict): New key added to state, generation, that contains LLM generation\n",
    "    \"\"\"\n",
    "    print(\"---GENERATE---\")\n",
    "    question = state[\"question\"]\n",
    "    documents = state[\"documents\"]\n",
    "    loop_step = state.get(\"loop_step\", 0)\n",
    "\n",
    "    # RAG generation\n",
    "    generation = rag_chain.invoke({\"context\": documents, \"question\": question})\n",
    "    \n",
    "    return {\"generation\": generation, \"loop_step\": loop_step + 1}"
   ]
  },
  {
   "cell_type": "markdown",
   "id": "1d68cf42-2a8b-4d09-9480-e7b243e97e8a",
   "metadata": {},
   "source": [
    "<h2>Documents Grader Node</h2>"
   ]
  },
  {
   "cell_type": "markdown",
   "id": "801a7185-ec11-4595-b40f-b45f0a4d7eff",
   "metadata": {},
   "source": [
    "If any docs are relevant, we can proceed with generating answer"
   ]
  },
  {
   "cell_type": "code",
   "execution_count": 34,
   "id": "7b2389c9-ac35-4c03-9e8b-1414224dbff9",
   "metadata": {},
   "outputs": [],
   "source": [
    "def grade(state):\n",
    "    \"\"\"\n",
    "    Determines whether the retrieved documents are relevant to the question.\n",
    "\n",
    "    Args:\n",
    "        state (dict): The current graph state\n",
    "\n",
    "    Returns:\n",
    "        state (dict): Updates documents key with only filtered relevant documents\n",
    "    \"\"\"\n",
    "\n",
    "    print(\"---CHECK DOCUMENT RELEVANCE TO QUESTION---\")\n",
    "    question = state[\"question\"]\n",
    "    documents = state[\"documents\"]\n",
    "\n",
    "    # Score each doc\n",
    "    filtered_docs = []\n",
    "    for doc in documents:\n",
    "        score = retrieval_grader.invoke(\n",
    "            {\"question\": question, \"documents\": doc}\n",
    "        )\n",
    "        grade = score.binary_score \n",
    "        if grade == 1:\n",
    "            print(\"---GRADE: DOCUMENT RELEVANT---\")\n",
    "            filtered_docs.append(doc)\n",
    "        else:\n",
    "            print(\"---GRADE: DOCUMENT NOT RELEVANT---\")\n",
    "            \n",
    "    return {\"documents\": filtered_docs}"
   ]
  },
  {
   "cell_type": "markdown",
   "id": "c754947a-ff8a-4580-8a0a-916076e2ffd7",
   "metadata": {},
   "source": [
    "<h2>Question Re-writer Node</h2>"
   ]
  },
  {
   "cell_type": "code",
   "execution_count": 35,
   "id": "e007283d-8eb2-4918-a30f-55dd70916572",
   "metadata": {},
   "outputs": [],
   "source": [
    "def rewrite(state):\n",
    "    \"\"\"\n",
    "    Transform the query to produce a better question.\n",
    "\n",
    "    Args:\n",
    "        state (dict): The current graph state\n",
    "\n",
    "    Returns:\n",
    "        state (dict): Updates question key with a re-phrased question\n",
    "    \"\"\"\n",
    "\n",
    "    print(\"---Rewrite---\")\n",
    "    question = state[\"question\"]\n",
    "\n",
    "    # Re-write question\n",
    "    better_question = question_rewriter.invoke({\"question\": question})\n",
    "    \n",
    "    return {\"question\": better_question}"
   ]
  },
  {
   "cell_type": "markdown",
   "id": "c24cf9ea-d402-40f8-9075-2ce2160551c2",
   "metadata": {},
   "source": [
    "<h2>Web Search Node</h2>"
   ]
  },
  {
   "cell_type": "code",
   "execution_count": 36,
   "id": "e4146362-0aea-4f16-af3b-68c3b455c2b6",
   "metadata": {},
   "outputs": [],
   "source": [
    "def search(state):\n",
    "    \"\"\"\n",
    "    Web search based on the re-phrased question.\n",
    "\n",
    "    Args:\n",
    "        state (dict): The current graph state\n",
    "\n",
    "    Returns:\n",
    "        state (dict): Updates documents key with appended web results\n",
    "    \"\"\"\n",
    "\n",
    "    print(\"---WEB SEARCH---\")\n",
    "    question = state[\"question\"]\n",
    "\n",
    "    # Web search\n",
    "    docs = web_search_tool.invoke(question)\n",
    "    web_results = \"\\n\".join([doc[\"content\"] for doc in docs])\n",
    "    documents = Document(page_content=web_results)\n",
    "\n",
    "    return {\"documents\": documents}"
   ]
  },
  {
   "cell_type": "markdown",
   "id": "21a86333-fbd4-46a3-95af-cd754e250dba",
   "metadata": {},
   "source": [
    "<h2>Conditional Edge</h2>"
   ]
  },
  {
   "cell_type": "code",
   "execution_count": 37,
   "id": "02cbf730-cb8f-4799-86ec-66ef56324b97",
   "metadata": {},
   "outputs": [],
   "source": [
    "from typing import Literal\n",
    "\n",
    "def route_question(state) -> Literal[\"vectorstore\", \"web_search\"]:\n",
    "    \"\"\"\n",
    "    Route question to web search or RAG.\n",
    "\n",
    "    Args:\n",
    "        state (dict): The current graph state\n",
    "\n",
    "    Returns:\n",
    "        str: Next node to call\n",
    "    \"\"\"\n",
    "\n",
    "    print(\"---ROUTE QUESTION---\")\n",
    "    question = state[\"question\"]\n",
    "    source = question_router.invoke({\"question\": question})\n",
    "    if source.datasource == \"web_search\":\n",
    "        print(\"---ROUTE QUESTION TO WEB SEARCH---\")\n",
    "        return \"web_search\"\n",
    "    elif source.datasource == \"vectorstore\":\n",
    "        print(\"---ROUTE QUESTION TO RAG---\")\n",
    "        return \"vectorstore\""
   ]
  },
  {
   "cell_type": "code",
   "execution_count": 38,
   "id": "0855e83c-813b-46ab-9669-f027a69e6953",
   "metadata": {},
   "outputs": [],
   "source": [
    "def decide_to_generate(state) -> Literal[\"generate\", \"rewrite\"]:\n",
    "    \"\"\"\n",
    "    Determines whether to generate an answer, or rewrite a question.\n",
    "\n",
    "    Args:\n",
    "        state (dict): The current graph state\n",
    "\n",
    "    Returns:\n",
    "        str: Binary decision for next node to call\n",
    "    \"\"\"\n",
    "\n",
    "    print(\"---ASSESS GRADED DOCUMENTS---\")\n",
    "    filtered_documents = state[\"documents\"]\n",
    "\n",
    "    if not filtered_documents:\n",
    "        # All documents have been filtered check_relevance\n",
    "        # We will re-generate a new query\n",
    "        print(\n",
    "            \"---DECISION: ALL DOCUMENTS ARE NOT RELEVANT TO QUESTION, REWRITE QUESTION---\"\n",
    "        )\n",
    "        return \"rewrite\"\n",
    "    else:\n",
    "        # We have relevant documents, so generate answer\n",
    "        print(\"---DECISION: GENERATE---\")\n",
    "        return \"generate\""
   ]
  },
  {
   "cell_type": "code",
   "execution_count": 39,
   "id": "e061c0f5-09b2-4422-b486-bd096ab91ae7",
   "metadata": {},
   "outputs": [],
   "source": [
    "def decide_to_answer(state) -> Literal[\"useful\", \"not useful\", \"not supported\", \"max retries\"]:\n",
    "    \"\"\"\n",
    "    Determines whether the generation is grounded in the document and answers question.\n",
    "\n",
    "    Args:\n",
    "        state (dict): The current graph state\n",
    "\n",
    "    Returns:\n",
    "        str: Decision for next node to call\n",
    "    \"\"\"\n",
    "\n",
    "    print(\"---CHECK HALLUCINATIONS---\")\n",
    "    question = state[\"question\"]\n",
    "    documents = state[\"documents\"]\n",
    "    generation = state[\"generation\"]\n",
    "    max_retries = state.get(\"max_retries\", 3)\n",
    "\n",
    "    hallucination_score = hallucination_grader.invoke(\n",
    "        {\"documents\": documents, \"generation\": generation}\n",
    "    )\n",
    "    hallucination_grade = hallucination_score.binary_score\n",
    "\n",
    "    # Check hallucination\n",
    "    if hallucination_grade == 1:\n",
    "        print(\"---DECISION: GENERATION IS GROUNDED IN DOCUMENTS---\")\n",
    "        # Check question-answering\n",
    "        print(\"---GRADE GENERATION vs QUESTION---\")\n",
    "        answer_score = answer_grader.invoke({\"question\": question, \"generation\": generation})\n",
    "        answer_grade = answer_score.binary_score\n",
    "        if answer_grade == 1:\n",
    "            print(\"---DECISION: GENERATION ADDRESSES QUESTION---\")\n",
    "            return \"useful\"\n",
    "        elif state[\"loop_step\"] <= max_retries:\n",
    "            print(\"---DECISION: GENERATION DOES NOT ADDRESS QUESTION---\")\n",
    "            return \"not useful\"\n",
    "        else:\n",
    "            print(\"---DECISION: MAX RETRIES REACHED---\")\n",
    "            return \"max retries\"\n",
    "    elif state[\"loop_step\"] <= max_retries:\n",
    "        print(\"---DECISION: GENERATION IS NOT GROUNDED IN DOCUMENTS, RE-TRY---\")\n",
    "        return \"not supported\"\n",
    "    else:\n",
    "        print(\"---DECISION: MAX RETRIES REACHED---\")\n",
    "        return \"max retries\""
   ]
  },
  {
   "cell_type": "markdown",
   "id": "28f2fb06-cc1b-4cc6-a953-668ba3b41ec1",
   "metadata": {},
   "source": [
    "<h2>Compile Graph</h2>"
   ]
  },
  {
   "cell_type": "code",
   "execution_count": 40,
   "id": "0ea4fb23-4558-4255-a25b-ba7fb5438fe3",
   "metadata": {},
   "outputs": [
    {
     "data": {
      "image/png": "[encoded data removed]",
      "text/plain": [
       "<IPython.core.display.Image object>"
      ]
     },
     "metadata": {},
     "output_type": "display_data"
    }
   ],
   "source": [
    "from IPython.display import Image, display\n",
    "from langgraph.graph import StateGraph, START, END\n",
    "\n",
    "workflow = StateGraph(State)\n",
    "\n",
    "# Define the nodes\n",
    "workflow.add_node(\"retrieve\", retrieve)  # retrieve\n",
    "workflow.add_node(\"grade\", grade)  # grade\n",
    "workflow.add_node(\"generate\", generate)  # generatae\n",
    "workflow.add_node(\"rewrite\", rewrite)  # rewrite\n",
    "workflow.add_node(\"search\", search)  # web search\n",
    "\n",
    "# Build graph\n",
    "workflow.add_conditional_edges(\n",
    "    START,\n",
    "    route_question,\n",
    "    {\n",
    "        \"web_search\": \"search\",\n",
    "        \"vectorstore\": \"retrieve\",\n",
    "    },\n",
    ")\n",
    "\n",
    "workflow.add_edge(\"search\", \"generate\")\n",
    "workflow.add_edge(\"retrieve\", \"grade\")\n",
    "\n",
    "workflow.add_conditional_edges(\n",
    "    \"grade\",\n",
    "    decide_to_generate,\n",
    "    {\n",
    "        \"rewrite\": \"rewrite\",\n",
    "        \"generate\": \"generate\",\n",
    "    },\n",
    ")\n",
    "\n",
    "workflow.add_edge(\"rewrite\", \"retrieve\")\n",
    "workflow.add_conditional_edges(\n",
    "    \"generate\",\n",
    "    decide_to_answer,\n",
    "    {\n",
    "        \"useful\": END,\n",
    "        \"not useful\": \"rewrite\",\n",
    "        \"not supported\": \"generate\",\n",
    "        \"max retries\": END,\n",
    "    },\n",
    ")\n",
    "\n",
    "# Compile\n",
    "graph = workflow.compile()\n",
    "\n",
    "# View\n",
    "display(Image(graph.get_graph().draw_mermaid_png()))"
   ]
  },
  {
   "cell_type": "code",
   "execution_count": 41,
   "id": "ee841e38-f406-4d6f-bbdc-12ddb62b8bae",
   "metadata": {},
   "outputs": [
    {
     "name": "stdout",
     "output_type": "stream",
     "text": [
      "---ROUTE QUESTION---\n",
      "---ROUTE QUESTION TO RAG---\n",
      "---RETRIEVE---\n",
      "\"Output from node 'retrieve':\"\n",
      "{ 'documents': [ Document(id='2d73c238-dd97-44f9-8fed-d6fa8ecbfe7f', metadata={'creationdate': '', 'creator': 'PyPDF', 'moddate': '2023-05-24T12:46:42+00:00', 'page': 2.0, 'page_label': '3', 'producer': 'iLovePDF', 'source': 'data/Mobily AR_2022_English.pdf', 'total_pages': 99.0}, page_content='Etihad Etisalat (Mobily) was established in 2004 through Saudi \\nArabia’s second Global System for Mobile Communications (GSM) \\nlicense, ending the monopoly in the Saudi wireless industry and \\nproviding choice in national mobile telecommunications services \\nto the Saudi population for the first time.\\nAbout Mobily\\nThe Company has rapidly grown and diversified both \\norganically and through strategic acquisitions over the \\nyears, driven by investment in cutting-edge infrastructure –'),\n",
      "                 Document(id='5ea5bc91-ef89-40ca-b064-45cd6dfa13d3', metadata={'creationdate': '', 'creator': 'PyPDF', 'moddate': '2023-05-24T12:46:42+00:00', 'page': 2.0, 'page_label': '3', 'producer': 'iLovePDF', 'source': 'data/Mobily AR_2022_English.pdf', 'total_pages': 99.0}, page_content='Mobily has been listed on Saudi Arabia’s exchange market \\n“Saudi Exchange” since 2004, with a share capital of SAR \\n7 ,700 million, comprising 770 million shares of SAR 10.00 \\neach, paid in full as of 31 December 2022. Mobily’s major \\nShareholder is Etisalat Emirates Group, with an ownership of \\n27.99%, and the remaining shares are owned by a diverse \\ngroup of institutional and retail investors.\\nVision Values\\nEmpower the Digital Economy \\nto Unlock Possibilities \\nEmpower:'),\n",
      "                 Document(id='486cd4ce-155a-49b7-9c52-c0357a32d570', metadata={'creationdate': '', 'creator': 'PyPDF', 'moddate': '2023-05-24T12:46:42+00:00', 'page': 3.0, 'page_label': '4', 'producer': 'iLovePDF', 'source': 'data/Mobily AR_2022_English.pdf', 'total_pages': 99.0}, page_content='18%\\nLaunched the \\nfintech arm,\\nMobily \\nPay\\nmobile internet \\naverage \\ndownload speed3\\n+36.9% Awarded as\\n“Top Rated-Mobile \\nNetwork” & “Top \\nRated-Fixed \\nNetwork”\\nin Saudi Arabia2\\nLaunched the region’s largest\\nwith Cisco\\nIoT Cloud \\nPlatform \\nAt a Glance\\nMobily maintained momentum during 2022 to deliver another remarkable operational \\nand financial performance during the final year of executing its GAIN Strategy, \\ncontinuing to gain trust while laying the groundwork for a new strategy that will')]}\n",
      "---CHECK DOCUMENT RELEVANCE TO QUESTION---\n",
      "---GRADE: DOCUMENT RELEVANT---\n",
      "---GRADE: DOCUMENT RELEVANT---\n",
      "---GRADE: DOCUMENT RELEVANT---\n",
      "---ASSESS GRADED DOCUMENTS---\n",
      "---DECISION: GENERATE---\n",
      "\"Output from node 'grade':\"\n",
      "{ 'documents': [ Document(id='2d73c238-dd97-44f9-8fed-d6fa8ecbfe7f', metadata={'creationdate': '', 'creator': 'PyPDF', 'moddate': '2023-05-24T12:46:42+00:00', 'page': 2.0, 'page_label': '3', 'producer': 'iLovePDF', 'source': 'data/Mobily AR_2022_English.pdf', 'total_pages': 99.0}, page_content='Etihad Etisalat (Mobily) was established in 2004 through Saudi \\nArabia’s second Global System for Mobile Communications (GSM) \\nlicense, ending the monopoly in the Saudi wireless industry and \\nproviding choice in national mobile telecommunications services \\nto the Saudi population for the first time.\\nAbout Mobily\\nThe Company has rapidly grown and diversified both \\norganically and through strategic acquisitions over the \\nyears, driven by investment in cutting-edge infrastructure –'),\n",
      "                 Document(id='5ea5bc91-ef89-40ca-b064-45cd6dfa13d3', metadata={'creationdate': '', 'creator': 'PyPDF', 'moddate': '2023-05-24T12:46:42+00:00', 'page': 2.0, 'page_label': '3', 'producer': 'iLovePDF', 'source': 'data/Mobily AR_2022_English.pdf', 'total_pages': 99.0}, page_content='Mobily has been listed on Saudi Arabia’s exchange market \\n“Saudi Exchange” since 2004, with a share capital of SAR \\n7 ,700 million, comprising 770 million shares of SAR 10.00 \\neach, paid in full as of 31 December 2022. Mobily’s major \\nShareholder is Etisalat Emirates Group, with an ownership of \\n27.99%, and the remaining shares are owned by a diverse \\ngroup of institutional and retail investors.\\nVision Values\\nEmpower the Digital Economy \\nto Unlock Possibilities \\nEmpower:'),\n",
      "                 Document(id='486cd4ce-155a-49b7-9c52-c0357a32d570', metadata={'creationdate': '', 'creator': 'PyPDF', 'moddate': '2023-05-24T12:46:42+00:00', 'page': 3.0, 'page_label': '4', 'producer': 'iLovePDF', 'source': 'data/Mobily AR_2022_English.pdf', 'total_pages': 99.0}, page_content='18%\\nLaunched the \\nfintech arm,\\nMobily \\nPay\\nmobile internet \\naverage \\ndownload speed3\\n+36.9% Awarded as\\n“Top Rated-Mobile \\nNetwork” & “Top \\nRated-Fixed \\nNetwork”\\nin Saudi Arabia2\\nLaunched the region’s largest\\nwith Cisco\\nIoT Cloud \\nPlatform \\nAt a Glance\\nMobily maintained momentum during 2022 to deliver another remarkable operational \\nand financial performance during the final year of executing its GAIN Strategy, \\ncontinuing to gain trust while laying the groundwork for a new strategy that will')]}\n",
      "---GENERATE---\n",
      "---CHECK HALLUCINATIONS---\n",
      "---DECISION: GENERATION IS GROUNDED IN DOCUMENTS---\n",
      "---GRADE GENERATION vs QUESTION---\n",
      "---DECISION: GENERATION ADDRESSES QUESTION---\n",
      "\"Output from node 'generate':\"\n",
      "{ 'generation': 'Mobily, officially known as Etihad Etisalat, is a '\n",
      "                'telecommunications company established in 2004 in Saudi '\n",
      "                \"Arabia. It was created through the country's second GSM \"\n",
      "                'license, breaking the monopoly in the Saudi wireless '\n",
      "                'industry. Mobily is listed on the Saudi Exchange and is '\n",
      "                'partially owned by the Etisalat Emirates Group.',\n",
      "  'loop_step': 1}\n"
     ]
    }
   ],
   "source": [
    "import pprint\n",
    "\n",
    "inputs = {\"question\": \"What is Mobily?\"}\n",
    "for output in graph.stream(inputs):\n",
    "    for key, value in output.items():\n",
    "        pprint.pprint(f\"Output from node '{key}':\")\n",
    "        pprint.pprint(value, indent=2, width=80, depth=None)"
   ]
  },
  {
   "cell_type": "code",
   "execution_count": null,
   "id": "f8e88205-ae90-4fc8-a8c6-20a78ff8c968",
   "metadata": {},
   "outputs": [],
   "source": []
  }
 ],
 "metadata": {
  "kernelspec": {
   "display_name": "Python (myenv)",
   "language": "python",
   "name": "tactical-edge-rag-env"
  },
  "language_info": {
   "codemirror_mode": {
    "name": "ipython",
    "version": 3
   },
   "file_extension": ".py",
   "mimetype": "text/x-python",
   "name": "python",
   "nbconvert_exporter": "python",
   "pygments_lexer": "ipython3",
   "version": "3.12.3"
  }
 },
 "nbformat": 4,
 "nbformat_minor": 5
}
