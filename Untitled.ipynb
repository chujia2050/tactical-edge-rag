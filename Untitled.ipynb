{
 "cells": [
  {
   "cell_type": "code",
   "execution_count": 38,
   "id": "d2d928ce-56d5-4988-aa12-bcf4b74382be",
   "metadata": {},
   "outputs": [
    {
     "data": {
      "text/plain": [
       "True"
      ]
     },
     "execution_count": 38,
     "metadata": {},
     "output_type": "execute_result"
    }
   ],
   "source": [
    "from dotenv import load_dotenv\n",
    "\n",
    "load_dotenv()"
   ]
  },
  {
   "cell_type": "code",
   "execution_count": 39,
   "id": "c7eae1c5-d6d4-46b8-9394-243af11d89c6",
   "metadata": {},
   "outputs": [],
   "source": [
    "from langchain_openai import ChatOpenAI, OpenAIEmbeddings\n",
    "from langchain_core.messages import AIMessage, HumanMessage, ToolMessage\n",
    "\n",
    "llm = ChatOpenAI(model=\"gpt-4o\", temperature=0)"
   ]
  },
  {
   "cell_type": "code",
   "execution_count": 40,
   "id": "f4d03cb1-2e92-4e12-a34c-f2f344bfe27c",
   "metadata": {},
   "outputs": [],
   "source": [
    "# Define templates\n",
    "financial_accounting_template = \"\"\"\n",
    "You are an expert in Financial Accounting. Please explain the following concept or help with the given task:\n",
    "- Balance Sheet\n",
    "- Income Statement\n",
    "- Cash Flow Statement\n",
    "- Financial Ratios\n",
    "- Net Income calculation\n",
    "- Earnings Per Share\n",
    "- Depreciation\n",
    "\n",
    "Answer the following question with clarity and provide examples when needed:\n",
    "\n",
    "Question: {user_question}\n",
    "\"\"\"\n",
    "\n",
    "managerial_accounting_template = \"\"\"\n",
    "You are an expert in Managerial Accounting. Please help with topics like:\n",
    "- Cost Behavior Analysis\n",
    "- Break-even Analysis\n",
    "- Variance Analysis\n",
    "- Budgeting\n",
    "- Cost Allocation\n",
    "\n",
    "Answer the following question related to managerial accounting with necessary calculations and examples:\n",
    "\n",
    "Question: {user_question}\n",
    "\"\"\"\n",
    "\n",
    "taxation_template = \"\"\"\n",
    "You are an expert in Taxation. Provide answers on topics such as:\n",
    "- Corporate Tax\n",
    "- Personal Income Tax\n",
    "- Tax Deductions and Credits\n",
    "- Tax Filing Procedures\n",
    "- Capital Gains Tax\n",
    "\n",
    "Answer the following taxation-related query in detail, providing examples when necessary:\n",
    "\n",
    "Question: {user_question}\n",
    "\"\"\"\n",
    "\n",
    "auditing_template = \"\"\"\n",
    "You are an expert in Auditing. Answer questions related to:\n",
    "- Audit Types (Internal, External)\n",
    "- Audit Procedures\n",
    "- Risk Assessment\n",
    "- Compliance Standards (e.g., GAAP, IFRS)\n",
    "- Audit Reports\n",
    "\n",
    "Answer the following auditing-related query with explanations and steps where applicable:\n",
    "\n",
    "Question: {user_question}\n",
    "\"\"\"\n",
    "\n",
    "financial_analysis_template = \"\"\"\n",
    "You are an expert in Financial Analysis. Help with topics such as:\n",
    "- Financial Ratios (ROI, ROA, Liquidity Ratios)\n",
    "- Return on Investment Analysis\n",
    "- Profitability Analysis\n",
    "- Leverage Ratios\n",
    "- Cash Flow Analysis\n",
    "\n",
    "Answer the following question by performing necessary calculations and providing a thorough analysis:\n",
    "\n",
    "Question: {user_question}\n",
    "\"\"\""
   ]
  },
  {
   "cell_type": "code",
   "execution_count": 47,
   "id": "6e2df59d-476a-417e-97de-44d0ca33f158",
   "metadata": {},
   "outputs": [],
   "source": [
    "def route_question_to_template(user_question):\n",
    "    # Keywords for categorization\n",
    "    financial_keywords = [\"balance sheet\", \"income statement\", \"cash flow\", \"financial ratio\", \"net income\", \"depreciation\"]\n",
    "    managerial_keywords = [\"cost behavior\", \"budgeting\", \"variance analysis\", \"break-even\", \"cost allocation\"]\n",
    "    taxation_keywords = [\"corporate tax\", \"personal income tax\", \"tax deductions\", \"tax credits\", \"capital gains tax\"]\n",
    "    auditing_keywords = [\"audit\", \"audit procedures\", \"compliance\", \"internal audit\", \"external audit\", \"audit report\"]\n",
    "    financial_analysis_keywords = [\"financial ratio\", \"ROI\", \"return on investment\", \"profitability\", \"leverage ratio\", \"cash flow analysis\"]\n",
    "\n",
    "    # Lowercase the user question for easy matching\n",
    "    question_lower = user_question.lower()\n",
    "    \n",
    "    # Check keywords to route to the correct template\n",
    "    if any(keyword in question_lower for keyword in financial_keywords):\n",
    "        template_to_use = financial_accounting_template\n",
    "    elif any(keyword in question_lower for keyword in managerial_keywords):\n",
    "        template_to_use = managerial_accounting_template\n",
    "    elif any(keyword in question_lower for keyword in taxation_keywords):\n",
    "        template_to_use = taxation_template\n",
    "    elif any(keyword in question_lower for keyword in auditing_keywords):\n",
    "        template_to_use = auditing_template\n",
    "    elif any(keyword in question_lower for keyword in financial_analysis_keywords):\n",
    "        template_to_use = financial_analysis_template\n",
    "    else:\n",
    "        return \"Sorry, I couldn't categorize your question. Please ask something related to accounting.\"\n",
    "\n",
    "    # Example usage\n",
    "    prompt = template_to_use.format(user_question=user_question)\n",
    "    return prompt"
   ]
  },
  {
   "cell_type": "code",
   "execution_count": 48,
   "id": "46bcdc9a-faaf-446d-869c-8a73c528f405",
   "metadata": {},
   "outputs": [],
   "source": [
    "from typing_extensions import TypedDict\n",
    "\n",
    "class State(TypedDict):\n",
    "    \"\"\"\n",
    "    Represents the state of our graph.\n",
    "\n",
    "    Attributes:\n",
    "        question: question\n",
    "        generation: LLM generation\n",
    "    \"\"\"\n",
    "    question: str\n",
    "    generation: str"
   ]
  },
  {
   "cell_type": "code",
   "execution_count": 57,
   "id": "a84ad608-eb76-41a6-bdab-a595e255a0a8",
   "metadata": {},
   "outputs": [],
   "source": [
    "def assistant(state):\n",
    "    \"\"\"\n",
    "    Invokes the agent model to generate a response based on the current state. \n",
    "\n",
    "    Args:\n",
    "        state (question): The current state\n",
    "\n",
    "    Returns:\n",
    "        dict: The updated state with the agent response appended to generation\n",
    "    \"\"\"\n",
    "    question = state[\"question\"]\n",
    "    prompt = route_question_to_template(question)\n",
    "    print(prompt)\n",
    "    generation = llm.invoke(question)\n",
    "    \n",
    "    return {\"generation\": generation}"
   ]
  },
  {
   "cell_type": "code",
   "execution_count": 58,
   "id": "555e2eef-4005-41ff-87a3-ffe9250f32d4",
   "metadata": {},
   "outputs": [
    {
     "data": {
      "image/png": "[encoded data removed]",
      "text/plain": [
       "<IPython.core.display.Image object>"
      ]
     },
     "metadata": {},
     "output_type": "display_data"
    }
   ],
   "source": [
    "from IPython.display import Image, display\n",
    "from langgraph.graph import StateGraph, START, END\n",
    "from langgraph.prebuilt import ToolNode, tools_condition\n",
    "\n",
    "workflow = StateGraph(State)\n",
    "\n",
    "# Define the nodes\n",
    "workflow.add_node(\"assistant\", assistant)  # assistant\n",
    "\n",
    "# Build graph\n",
    "workflow.add_edge(START, \"assistant\")\n",
    "workflow.add_edge(\"assistant\", END)\n",
    "\n",
    "# Compile\n",
    "graph = workflow.compile()\n",
    "\n",
    "# View\n",
    "display(Image(graph.get_graph().draw_mermaid_png()))"
   ]
  },
  {
   "cell_type": "code",
   "execution_count": 60,
   "id": "d4c29399-5c7d-4e06-bc43-ae32cddb88d5",
   "metadata": {},
   "outputs": [
    {
     "name": "stdout",
     "output_type": "stream",
     "text": [
      "\n",
      "You are an expert in Financial Accounting. Please explain the following concept or help with the given task:\n",
      "- Balance Sheet\n",
      "- Income Statement\n",
      "- Cash Flow Statement\n",
      "- Financial Ratios\n",
      "- Net Income calculation\n",
      "- Earnings Per Share\n",
      "- Depreciation\n",
      "\n",
      "Answer the following question with clarity and provide examples when needed:\n",
      "\n",
      "Question: What is balance sheet?\n",
      "\n",
      "\n",
      "You are an expert in Financial Accounting. Please explain the following concept or help with the given task:\n",
      "- Balance Sheet\n",
      "- Income Statement\n",
      "- Cash Flow Statement\n",
      "- Financial Ratios\n",
      "- Net Income calculation\n",
      "- Earnings Per Share\n",
      "- Depreciation\n",
      "\n",
      "Answer the following question with clarity and provide examples when needed:\n",
      "\n",
      "Question: What is balance sheet?\n",
      "\n"
     ]
    }
   ],
   "source": [
    "import pprint\n",
    "\n",
    "inputs = {\"question\": \"What is balance sheet?\"}\n",
    "result = graph.invoke(inputs)"
   ]
  },
  {
   "cell_type": "code",
   "execution_count": 61,
   "id": "a4d57688-1401-4204-a7c9-27cb7ca992d0",
   "metadata": {},
   "outputs": [
    {
     "data": {
      "text/plain": [
       "{'question': 'What is balance sheet?',\n",
       " 'generation': AIMessage(content=\"A balance sheet is a financial statement that provides a snapshot of a company's financial position at a specific point in time. It is one of the key components of a company's financial statements, along with the income statement and cash flow statement. The balance sheet is structured around the accounting equation:\\n\\n\\\\[ \\\\text{Assets} = \\\\text{Liabilities} + \\\\text{Equity} \\\\]\\n\\nHere's a breakdown of its components:\\n\\n1. **Assets**: These are resources owned by the company that are expected to provide future economic benefits. Assets are typically divided into current and non-current (or long-term) assets. Current assets include cash, accounts receivable, and inventory, while non-current assets include property, plant, equipment, and intangible assets like patents.\\n\\n2. **Liabilities**: These are obligations that the company owes to external parties, which are expected to be settled through the outflow of resources. Liabilities are also divided into current and non-current liabilities. Current liabilities include accounts payable and short-term debt, while non-current liabilities include long-term debt and other long-term obligations.\\n\\n3. **Equity**: Also known as shareholders' equity or owners' equity, this represents the residual interest in the assets of the company after deducting liabilities. It includes items like common stock, retained earnings, and additional paid-in capital.\\n\\nThe balance sheet provides valuable information to investors, creditors, and other stakeholders about the company's financial health, liquidity, and capital structure. It helps in assessing the company's ability to meet its short-term obligations, manage its long-term debts, and generate returns for its shareholders.\", additional_kwargs={'refusal': None}, response_metadata={'token_usage': {'completion_tokens': 323, 'prompt_tokens': 12, 'total_tokens': 335, 'completion_tokens_details': {'accepted_prediction_tokens': 0, 'audio_tokens': 0, 'reasoning_tokens': 0, 'rejected_prediction_tokens': 0}, 'prompt_tokens_details': {'audio_tokens': 0, 'cached_tokens': 0}}, 'model_name': 'gpt-4o-2024-08-06', 'system_fingerprint': 'fp_eb9dce56a8', 'finish_reason': 'stop', 'logprobs': None}, id='run-a700cd25-288d-4cc2-a374-fe449a6dbefa-0', usage_metadata={'input_tokens': 12, 'output_tokens': 323, 'total_tokens': 335, 'input_token_details': {'audio': 0, 'cache_read': 0}, 'output_token_details': {'audio': 0, 'reasoning': 0}})}"
      ]
     },
     "execution_count": 61,
     "metadata": {},
     "output_type": "execute_result"
    }
   ],
   "source": [
    "result"
   ]
  },
  {
   "cell_type": "code",
   "execution_count": 34,
   "id": "731fd677-4d8a-48b5-bc3b-efa7cfad4561",
   "metadata": {},
   "outputs": [
    {
     "name": "stdout",
     "output_type": "stream",
     "text": [
      "In accounting, the recognition of income is guided by specific principles and standards, which can vary depending on the accounting framework being used, such as Generally Accepted Accounting Principles (GAAP) or International Financial Reporting Standards (IFRS). Here are the general guidelines for recognizing income:\n",
      "\n",
      "1. **Revenue Recognition Principle (Accrual Accounting):**\n",
      "   - **GAAP:** Under the revenue recognition principle, income is recognized when it is earned and realizable, regardless of when the cash is received. This typically occurs when:\n",
      "     - There is persuasive evidence of an arrangement.\n",
      "     - Delivery has occurred or services have been rendered.\n",
      "     - The price is fixed or determinable.\n",
      "     - Collectibility is reasonably assured.\n",
      "\n",
      "   - **IFRS (IFRS 15 - Revenue from Contracts with Customers):** Income is recognized when control of the goods or services is transferred to the customer, which can occur over time or at a point in time. The five-step model includes:\n",
      "     1. Identifying the contract with the customer.\n",
      "     2. Identifying the performance obligations in the contract.\n",
      "     3. Determining the transaction price.\n",
      "     4. Allocating the transaction price to the performance obligations.\n",
      "     5. Recognizing revenue when (or as) the entity satisfies a performance obligation.\n",
      "\n",
      "2. **Cash Basis Accounting:**\n",
      "   - Income is recognized when cash is received. This method is simpler but less accurate in matching income with the period in which it is earned.\n",
      "\n",
      "3. **Specific Industry Guidelines:**\n",
      "   - Certain industries have specific guidelines for revenue recognition. For example, construction companies may use the percentage-of-completion method, recognizing revenue based on the progress of a project.\n",
      "\n",
      "4. **Taxation:**\n",
      "   - For tax purposes, income recognition may follow different rules, often based on cash receipts or specific tax regulations.\n",
      "\n",
      "5. **Timing and Measurement:**\n",
      "   - The timing of income recognition can significantly impact financial statements and tax liabilities, so it is crucial to follow the appropriate standards and guidelines.\n",
      "\n",
      "In practice, the recognition of income requires careful consideration of the terms of contracts, the nature of the business, and the applicable accounting standards. It is often advisable to consult with an accounting professional to ensure compliance with the relevant guidelines.\n"
     ]
    }
   ],
   "source": [
    "print(result[\"generation\"].content)"
   ]
  },
  {
   "cell_type": "code",
   "execution_count": null,
   "id": "1e78da57-6968-4baa-9e2f-c60302787132",
   "metadata": {},
   "outputs": [],
   "source": [
    "import pprint\n",
    "\n",
    "inputs = {\"messages\": [HumanMessage(content=\"What is a AI Agent?\")]}\n",
    "\n",
    "for output in graph.stream(inputs):\n",
    "    for key, value in output.items():\n",
    "        pprint.pprint(f\"Output from node '{key}':\")\n",
    "        pprint.pprint(value, indent=2, width=80, depth=None)"
   ]
  }
 ],
 "metadata": {
  "kernelspec": {
   "display_name": "Python 3 (ipykernel)",
   "language": "python",
   "name": "python3"
  },
  "language_info": {
   "codemirror_mode": {
    "name": "ipython",
    "version": 3
   },
   "file_extension": ".py",
   "mimetype": "text/x-python",
   "name": "python",
   "nbconvert_exporter": "python",
   "pygments_lexer": "ipython3",
   "version": "3.12.3"
  }
 },
 "nbformat": 4,
 "nbformat_minor": 5
}
